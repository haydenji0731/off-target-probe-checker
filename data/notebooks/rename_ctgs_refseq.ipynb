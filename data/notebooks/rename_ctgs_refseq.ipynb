{
 "cells": [
  {
   "cell_type": "code",
   "execution_count": 9,
   "metadata": {},
   "outputs": [],
   "source": [
    "import pyfastx"
   ]
  },
  {
   "cell_type": "code",
   "execution_count": 3,
   "metadata": {},
   "outputs": [],
   "source": [
    "fn = \"/ccb/salz4-3/hji20/off-target-probe-checker/data/dev/refseq/GRCh38_latest_assembly_report.txt\""
   ]
  },
  {
   "cell_type": "code",
   "execution_count": 4,
   "metadata": {},
   "outputs": [],
   "source": [
    "ctg_names = dict()\n",
    "with open(fn, 'r') as fh:\n",
    "    for ln in fh:\n",
    "        if ln[0] == '#': continue\n",
    "        temp = ln.split(\"\\t\")\n",
    "        # assert len(temp) == 10 # sanity check\n",
    "        ctg_id = temp[6].strip()\n",
    "        ctg_name = temp[9].strip()\n",
    "        ctg_names[ctg_id] = ctg_name"
   ]
  },
  {
   "cell_type": "code",
   "execution_count": 5,
   "metadata": {},
   "outputs": [],
   "source": [
    "gff_fn = \"/ccb/salz4-3/hji20/off-target-probe-checker/data/dev/refseq/GRCh38_latest_genomic.gff\"\n",
    "out_fn = \"/ccb/salz4-3/hji20/off-target-probe-checker/data/dev/refseq/refseq.v110.gff\""
   ]
  },
  {
   "cell_type": "code",
   "execution_count": 8,
   "metadata": {},
   "outputs": [],
   "source": [
    "out_fh = open(out_fn, 'w')\n",
    "with open(gff_fn, 'r') as fh:\n",
    "    for ln in fh:\n",
    "        if ln[0] == '#': continue\n",
    "        temp = ln.strip().split(\"\\t\")\n",
    "        feature = temp[2]\n",
    "        if feature == 'region': continue # skip region entries\n",
    "        if \"RNA\" in feature or feature == \"primary_transcript\":\n",
    "            temp[2] = \"transcript\"\n",
    "        ctg_id = temp[0]\n",
    "        # assert ctg_id in ctg_names # sanity check\n",
    "        ctg_name = ctg_names[ctg_id]\n",
    "        temp[0] = ctg_name\n",
    "        s = '\\t'.join(temp)\n",
    "        out_fh.write(s + \"\\n\")\n",
    "out_fh.close()"
   ]
  },
  {
   "cell_type": "code",
   "execution_count": 10,
   "metadata": {},
   "outputs": [
    {
     "data": {
      "text/plain": [
       "186819"
      ]
     },
     "execution_count": 10,
     "metadata": {},
     "output_type": "execute_result"
    }
   ],
   "source": [
    "fa = pyfastx.Fasta(\"/ccb/salz4-3/hji20/off-target-probe-checker/data/dev/refseq/refseq.v110.noAlt.noFix.fa\")\n",
    "tids = set()\n",
    "for ent in fa:\n",
    "    tids.add(ent.name)\n",
    "len(tids)"
   ]
  },
  {
   "cell_type": "code",
   "execution_count": 31,
   "metadata": {},
   "outputs": [
    {
     "data": {
      "text/plain": [
       "592"
      ]
     },
     "execution_count": 31,
     "metadata": {},
     "output_type": "execute_result"
    }
   ],
   "source": [
    "non_rnas = set()\n",
    "for tid in tids:\n",
    "    if tid[0:3] != 'rna':\n",
    "        if tid[0:4] == 'gene':\n",
    "            continue\n",
    "        non_rnas.add(tid)\n",
    "len(non_rnas)"
   ]
  },
  {
   "cell_type": "markdown",
   "metadata": {},
   "source": [
    "investigate what are these transcripts:"
   ]
  },
  {
   "cell_type": "code",
   "execution_count": 33,
   "metadata": {},
   "outputs": [],
   "source": [
    "def get_feature_id(s):\n",
    "    temp = s.split(';')\n",
    "    fid = None\n",
    "    for x in temp:\n",
    "        kv_pair = x.split(\"=\")\n",
    "        if kv_pair[0] == 'ID':\n",
    "            fid = kv_pair[1]\n",
    "    return fid"
   ]
  },
  {
   "cell_type": "code",
   "execution_count": 34,
   "metadata": {},
   "outputs": [
    {
     "data": {
      "text/plain": [
       "{'V_gene_segment': 427,\n",
       " 'C_gene_segment': 28,\n",
       " 'J_gene_segment': 105,\n",
       " 'D_gene_segment': 32}"
      ]
     },
     "execution_count": 34,
     "metadata": {},
     "output_type": "execute_result"
    }
   ],
   "source": [
    "gff_fn = \"/ccb/salz4-3/hji20/off-target-probe-checker/data/dev/refseq/refseq.v110.noAlt.noFix.gff\"\n",
    "ft_tbl = dict()\n",
    "with open(gff_fn, 'r') as fh:\n",
    "    for ln in fh:\n",
    "        temp = ln.strip().split(\"\\t\")\n",
    "        fid = get_feature_id(temp[8])\n",
    "        if fid in non_rnas:\n",
    "            if temp[2] in ft_tbl:\n",
    "                ft_tbl[temp[2]] += 1\n",
    "            else:\n",
    "                ft_tbl[temp[2]] = 1\n",
    "ft_tbl            "
   ]
  },
  {
   "cell_type": "markdown",
   "metadata": {},
   "source": [
    "the decision is to keep these features:"
   ]
  },
  {
   "cell_type": "code",
   "execution_count": 35,
   "metadata": {},
   "outputs": [],
   "source": [
    "gff_fn = \"/ccb/salz4-3/hji20/off-target-probe-checker/data/dev/refseq/refseq.v110.noAlt.noFix.gff\"\n",
    "out_fn = \"/ccb/salz4-3/hji20/off-target-probe-checker/data/dev/refseq/refseq.v110.noAlt.noFix.renamed.gff\"\n",
    "out_fh = open(out_fn, 'w')\n",
    "with open(gff_fn, 'r') as fh:\n",
    "    for ln in fh:\n",
    "        temp = ln.strip().split(\"\\t\")\n",
    "        fid = get_feature_id(temp[8])\n",
    "        if fid in non_rnas:\n",
    "            temp[2] = \"transcript\"\n",
    "        s = '\\t'.join(temp)\n",
    "        out_fh.write(s + \"\\n\")\n",
    "out_fh.close()"
   ]
  },
  {
   "cell_type": "code",
   "execution_count": 37,
   "metadata": {},
   "outputs": [],
   "source": [
    "out_fn = \"/ccb/salz4-3/hji20/off-target-probe-checker/data/dev/refseq/refseq.v110.noAlt.noFix.filtered.fa\"\n",
    "out_fh = open(out_fn, 'w')\n",
    "for ent in fa:\n",
    "    if ent.name[0:3] == 'rna':\n",
    "        out_fh.write(ent.raw)\n",
    "    else:\n",
    "        if ent.name[0:4] == 'gene':\n",
    "            continue\n",
    "        out_fh.write(ent.raw)\n",
    "out_fh.close()"
   ]
  }
 ],
 "metadata": {
  "kernelspec": {
   "display_name": "Python 3 (ipykernel)",
   "language": "python",
   "name": "python3"
  },
  "language_info": {
   "codemirror_mode": {
    "name": "ipython",
    "version": 3
   },
   "file_extension": ".py",
   "mimetype": "text/x-python",
   "name": "python",
   "nbconvert_exporter": "python",
   "pygments_lexer": "ipython3",
   "version": "3.10.14"
  }
 },
 "nbformat": 4,
 "nbformat_minor": 2
}
