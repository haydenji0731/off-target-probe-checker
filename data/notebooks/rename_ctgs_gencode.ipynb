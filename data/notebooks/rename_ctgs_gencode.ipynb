{
 "cells": [
  {
   "cell_type": "code",
   "execution_count": 3,
   "metadata": {},
   "outputs": [],
   "source": [
    "fn = \"/ccb/salz4-3/hji20/off-target-probe-checker/data/dev/GRCh38_latest_assembly_report.txt\""
   ]
  },
  {
   "cell_type": "code",
   "execution_count": 8,
   "metadata": {},
   "outputs": [],
   "source": [
    "ctg_names = dict()\n",
    "with open(fn, 'r') as fh:\n",
    "    for ln in fh:\n",
    "        if ln[0] == '#': continue\n",
    "        temp = ln.split(\"\\t\")\n",
    "        # assert len(temp) == 10 # sanity check\n",
    "        ctg_id = temp[4].strip() # different from RefSeq code\n",
    "        ctg_name = temp[9].strip()\n",
    "        ctg_names[ctg_id] = ctg_name"
   ]
  },
  {
   "cell_type": "code",
   "execution_count": 11,
   "metadata": {},
   "outputs": [],
   "source": [
    "gff_fn = \"/ccb/salz4-3/hji20/off-target-probe-checker/data/dev/gencode_comprehensive/gencode.v47.primary_assembly.annotation.gff3\"\n",
    "out_fn = \"/ccb/salz4-3/hji20/off-target-probe-checker/data/dev/gencode_comprehensive/gencode.v47.primary_assembly.annotation.fmted.gff\""
   ]
  },
  {
   "cell_type": "code",
   "execution_count": 13,
   "metadata": {},
   "outputs": [],
   "source": [
    "out_fh = open(out_fn, 'w')\n",
    "with open(gff_fn, 'r') as fh:\n",
    "    for ln in fh:\n",
    "        if ln[0] == '#': continue\n",
    "        temp = ln.split(\"\\t\")\n",
    "        feature = temp[2]\n",
    "        ctg_id = temp[0]\n",
    "        if 'GL' in ctg_id or \"KI\" in ctg_id:\n",
    "            ctg_name = ctg_names[ctg_id]\n",
    "            temp[0] = ctg_name\n",
    "            s = '\\t'.join(temp)\n",
    "            out_fh.write(s)\n",
    "        else:\n",
    "            out_fh.write(ln)\n",
    "out_fh.close()"
   ]
  }
 ],
 "metadata": {
  "kernelspec": {
   "display_name": "Python 3 (ipykernel)",
   "language": "python",
   "name": "python3"
  }
 },
 "nbformat": 4,
 "nbformat_minor": 2
}
